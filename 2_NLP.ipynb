{
 "cells": [
  {
   "cell_type": "code",
   "execution_count": 1,
   "metadata": {},
   "outputs": [
    {
     "name": "stderr",
     "output_type": "stream",
     "text": [
      "[nltk_data] Downloading package punkt to /Users/taagaar8/nltk_data...\n",
      "[nltk_data]   Unzipping tokenizers/punkt.zip.\n",
      "[nltk_data] Downloading package stopwords to\n",
      "[nltk_data]     /Users/taagaar8/nltk_data...\n",
      "[nltk_data]   Unzipping corpora/stopwords.zip.\n"
     ]
    },
    {
     "name": "stdout",
     "output_type": "stream",
     "text": [
      "Keywords: ['de', 'wohnung', 'à', 'küche', 'et', 'vermieten', 'un', 'avec', 'a', 'une', 'per', 'la', 'le', 'nähe', 'chf', 'au', 'e', 'badezimmer', 'sowie', 'balkon']\n"
     ]
    }
   ],
   "source": [
    "import requests\n",
    "from bs4 import BeautifulSoup\n",
    "from collections import Counter\n",
    "import nltk\n",
    "nltk.download('punkt')\n",
    "nltk.download('stopwords')\n",
    "from nltk.corpus import stopwords\n",
    "from nltk.tokenize import word_tokenize\n",
    "from nltk.probability import FreqDist\n",
    "from cachetools import TTLCache\n",
    "\n",
    "# Define the 10 biggest cities in Switzerland\n",
    "cities = ['Zurich', 'Genf', 'Basel', 'Lausanne', 'Bern', 'Winterthur', 'Lucerne', 'St-Gallen', 'Lugano', 'Biel-Bienne']\n",
    "\n",
    "# Create a cache with a time-to-live (TTL) of 2 hour to speed up reiterations\n",
    "cache = TTLCache(maxsize=100, ttl=7200)\n",
    "\n",
    "# Function to fetch a URL with caching\n",
    "def fetch_url(url):\n",
    "    if url in cache:\n",
    "        return cache[url]\n",
    "    response = requests.get(url)\n",
    "    cache[url] = response\n",
    "    return response\n",
    "\n",
    "# Function to scrape apartment descriptions from ImmobilienScout24.ch\n",
    "def scrape_apartment_descriptions(city):\n",
    "    url = f'https://www.immoscout24.ch/en/real-estate/city-{city.lower().replace(\" \", \"-\")}'\n",
    "    response = fetch_url(url)\n",
    "    soup = BeautifulSoup(response.content, 'html.parser')\n",
    "    description_div = soup.find('div', class_='Text__TextStyled-fiIwWW')\n",
    "    description_texts = [desc.get_text(strip=True) for desc in descriptions]\n",
    "    return description_texts\n",
    "\n",
    "# Scrape apartment descriptions for each city and page\n",
    "all_descriptions = []\n",
    "for city in cities:\n",
    "    page = 1\n",
    "    while True:\n",
    "        url = f'https://www.immoscout24.ch/en/real-estate/rent/city-{city.lower().replace(\" \", \"-\")}?pn={page}'\n",
    "        #print(\"URL:\", url)  # Print the generated URL for debugging\n",
    "        response = fetch_url(url)\n",
    "        soup = BeautifulSoup(response.content, 'html.parser')\n",
    "        descriptions = soup.find_all('p', {'class': ['Box-cYFBPY', 'cVjoUC']})\n",
    "        if not descriptions:\n",
    "            break\n",
    "        description_texts = [desc.get_text(strip=True) for desc in descriptions]\n",
    "        all_descriptions.extend(description_texts)\n",
    "        next_button = soup.find('div', class_='Box-cYFBPY jlxgvH')\n",
    "        if not next_button:\n",
    "            break\n",
    "        page += 1\n",
    "\n",
    "# Combine all descriptions into a single text\n",
    "all_text = ' '.join(all_descriptions)\n",
    "\n",
    "# Text Preprocessing\n",
    "stop_words = set(stopwords.words('german'))  # Adjust the language as per your requirements\n",
    "tokens = word_tokenize(all_text)\n",
    "tokens = [word.lower() for word in tokens if word.isalpha() and word.lower() not in stop_words]\n",
    "\n",
    "# Keyword summarization using Frequency Distribution\n",
    "fdist = FreqDist(tokens)\n",
    "keyword_counts = fdist.most_common(20)\n",
    "keywords = [keyword for keyword, count in keyword_counts]\n",
    "\n",
    "print(\"Keywords:\", keywords)\n"
   ]
  },
  {
   "cell_type": "code",
   "execution_count": null,
   "metadata": {},
   "outputs": [],
   "source": []
  }
 ],
 "metadata": {
  "kernelspec": {
   "display_name": "adsenv",
   "language": "python",
   "name": "python3"
  },
  "language_info": {
   "codemirror_mode": {
    "name": "ipython",
    "version": 3
   },
   "file_extension": ".py",
   "mimetype": "text/x-python",
   "name": "python",
   "nbconvert_exporter": "python",
   "pygments_lexer": "ipython3",
   "version": "3.10.9"
  },
  "orig_nbformat": 4
 },
 "nbformat": 4,
 "nbformat_minor": 2
}
