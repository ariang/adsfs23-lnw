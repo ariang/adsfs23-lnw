{
 "cells": [
  {
   "attachments": {},
   "cell_type": "markdown",
   "metadata": {},
   "source": [
    "# This was only used once to extract the data from ImmoScout24\n",
    "### Should not be run, as the EDA is fine tuned for the extraction on the 25th of May 2023"
   ]
  },
  {
   "cell_type": "code",
   "execution_count": null,
   "metadata": {},
   "outputs": [],
   "source": [
    "from selenium import webdriver\n",
    "from selenium.webdriver.common.keys import Keys\n",
    "from bs4 import BeautifulSoup\n",
    "import re\n",
    "import overpy\n",
    "import psycopg2\n",
    "import statistics\n",
    "#import tensorflow as tf\n",
    "#from tensorflow import keras\n",
    "#from tensorflow.keras import layers\n",
    "import pandas as pd\n",
    "import numpy as np\n",
    "from matplotlib import pyplot as plt\n",
    "import seaborn as sns\n",
    "from sklearn.model_selection import train_test_split"
   ]
  },
  {
   "cell_type": "code",
   "execution_count": null,
   "metadata": {},
   "outputs": [],
   "source": [
    "# List of URLs to scrape\n",
    "\n",
    "urls = [\n",
    "    'https://www.immoscout24.ch/en/real-estate/rent/city-winterthur',\n",
    "    'https://www.immoscout24.ch/en/real-estate/rent/city-zuerich',\n",
    "    'https://www.immoscout24.ch/en/real-estate/rent/city-geneve',\n",
    "    'https://www.immoscout24.ch/en/real-estate/rent/city-basel',\n",
    "    'https://www.immoscout24.ch/en/real-estate/rent/city-lausanne',\n",
    "    'https://www.immoscout24.ch/en/real-estate/rent/city-bern',\n",
    "    'https://www.immoscout24.ch/en/real-estate/rent/city-luzern',\n",
    "    'https://www.immoscout24.ch/en/real-estate/rent/city-st-gallen',\n",
    "    'https://www.immoscout24.ch/en/real-estate/rent/city-lugano',\n",
    "    'https://www.immoscout24.ch/en/real-estate/rent/city-biel-bienne'\n",
    "]   \n"
   ]
  },
  {
   "attachments": {},
   "cell_type": "markdown",
   "metadata": {},
   "source": [
    "### Looping through every URL and getting entries for every page"
   ]
  },
  {
   "cell_type": "code",
   "execution_count": null,
   "metadata": {},
   "outputs": [],
   "source": [
    "# loop thorugh each URL \n",
    "def extract(link):\n",
    "        L = []\n",
    "        # Create a new instance of Chrome driver\n",
    "        driver = webdriver.Chrome()\n",
    "\n",
    "        # Navigate to the search result page for ten selected cities on ImmoScout24.ch\n",
    "        driver.get(link)\n",
    "        \n",
    "\n",
    "        # Wait for the page to load completely\n",
    "        driver.implicitly_wait(10)\n",
    "\n",
    "        # Use BeautifulSoup to parse the HTML content of the page\n",
    "        soup = BeautifulSoup(driver.page_source, \"html.parser\")\n",
    "\n",
    "        #get last page number\n",
    "        p = soup.find(\"div\",{\"class\": \"Box-cYFBPY Flex-feqWzG FwNOn dCDRxm\"}).children\n",
    "        *_, last = p # for a better understanding check PEP 448\n",
    "        pages = last.text\n",
    "        print(\"this is the amount of pages: \", pages)\n",
    "\n",
    "        #iterate through all the pages\n",
    "        for page in range(1,int(pages)+1):\n",
    "            \n",
    "            driver.get(link+'?pn='+str(page))\n",
    "\n",
    "            soup = BeautifulSoup(driver.page_source, \"html.parser\")\n",
    "\n",
    "            # Find all the property listings on the page\n",
    "            listings = soup.find_all(\"a\", {\"class\": \"Wrapper__A-kVOWTT\"})\n",
    "\n",
    "\n",
    "        # Loop through the listings and extract the required information\n",
    "            for listing in listings:\n",
    "                #print(listing)\n",
    "                # Get the price, size, and address of the property\n",
    "                price = listing.find(\"h3\", {\"class\": re.compile(\"^Box-cYFBPY hKJGPR Heading\")}).text.strip()\n",
    "                #size = listing.find(\"h3\", {\"class\": re.compile(\"^Box-cYFBPY hKJGPR Heading\")}).text.strip()\n",
    "                address = listing.find(\"span\", {\"class\": \"AddressLine__TextStyled-eaUAMD\"}).text.strip()\n",
    "\n",
    "                # Add the property details to the properties array as a tuple\n",
    "                L.append((price, address))\n",
    "                #print(properties)\n",
    "        \n",
    "        # Close the Chrome driver\n",
    "        driver.close()\n",
    "        return L"
   ]
  },
  {
   "attachments": {},
   "cell_type": "markdown",
   "metadata": {},
   "source": [
    "### Multiprocessing to open multiple chrome tabs and extract data faster"
   ]
  },
  {
   "cell_type": "code",
   "execution_count": null,
   "metadata": {},
   "outputs": [],
   "source": [
    "import multiprocess as mp\n",
    "import time\n",
    "from multiprocessing import Process, Manager\n",
    "from itertools import repeat\n",
    "from functools import partial\n",
    "import concurrent.futures\n",
    "\n",
    "#timer for performance\n",
    "start = time.perf_counter()\n",
    "\n",
    "#trial and error with multiprocessing\n",
    "#with mp.Pool() as pool:\n",
    "#    result = pool.map(extract,urls)\n",
    "#    print(result)\n",
    "\n",
    "#Multithreading used to open multiple chrome windows\n",
    "with concurrent.futures.ThreadPoolExecutor(max_workers=5) as executor: \n",
    "    result = executor.map(extract,  urls)\n",
    "    \n",
    "finish = time.perf_counter()\n",
    "\n",
    "print(f'Finished urls in {round(finish-start,2)} second(s)')"
   ]
  },
  {
   "cell_type": "code",
   "execution_count": null,
   "metadata": {},
   "outputs": [],
   "source": [
    "r = list(result)"
   ]
  },
  {
   "cell_type": "code",
   "execution_count": null,
   "metadata": {},
   "outputs": [],
   "source": [
    "#write results into immo.csv file\n",
    "import csv\n",
    "with open('immo.csv', 'w') as f:\n",
    "    # using csv.writer method from CSV package\n",
    "    write = csv.writer(f)\n",
    "    write.writerows(r)"
   ]
  }
 ],
 "metadata": {
  "language_info": {
   "name": "python"
  },
  "orig_nbformat": 4
 },
 "nbformat": 4,
 "nbformat_minor": 2
}
