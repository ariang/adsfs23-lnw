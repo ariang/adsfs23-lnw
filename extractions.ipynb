{
 "cells": [
  {
   "attachments": {},
   "cell_type": "markdown",
   "metadata": {},
   "source": [
    "# Modules to be imported"
   ]
  },
  {
   "cell_type": "code",
   "execution_count": 1,
   "metadata": {},
   "outputs": [],
   "source": [
    "from selenium import webdriver\n",
    "from selenium.webdriver.common.keys import Keys\n",
    "from bs4 import BeautifulSoup\n",
    "import re\n",
    "import overpy\n",
    "import psycopg2\n",
    "import statistics\n",
    "import tensorflow as tf\n",
    "from tensorflow import keras\n",
    "from tensorflow.keras import layers\n",
    "import pandas as pd\n",
    "import numpy as np\n",
    "from matplotlib import pyplot as plt\n",
    "import seaborn as sns\n",
    "from sklearn.model_selection import train_test_split"
   ]
  },
  {
   "attachments": {},
   "cell_type": "markdown",
   "metadata": {},
   "source": [
    "# Webscraping from www.immoscout24.ch"
   ]
  },
  {
   "cell_type": "code",
   "execution_count": 2,
   "metadata": {},
   "outputs": [
    {
     "ename": "WebDriverException",
     "evalue": "Message: 'chromedriver' executable needs to be in PATH. Please see https://sites.google.com/a/chromium.org/chromedriver/home\n",
     "output_type": "error",
     "traceback": [
      "\u001b[1;31m---------------------------------------------------------------------------\u001b[0m",
      "\u001b[1;31mFileNotFoundError\u001b[0m                         Traceback (most recent call last)",
      "File \u001b[1;32mc:\\Users\\Snigis\\anaconda3\\envs\\ADS_LNW\\lib\\site-packages\\selenium\\webdriver\\common\\service.py:72\u001b[0m, in \u001b[0;36mService.start\u001b[1;34m(self)\u001b[0m\n\u001b[0;32m     71\u001b[0m     cmd\u001b[39m.\u001b[39mextend(\u001b[39mself\u001b[39m\u001b[39m.\u001b[39mcommand_line_args())\n\u001b[1;32m---> 72\u001b[0m     \u001b[39mself\u001b[39m\u001b[39m.\u001b[39mprocess \u001b[39m=\u001b[39m subprocess\u001b[39m.\u001b[39;49mPopen(cmd, env\u001b[39m=\u001b[39;49m\u001b[39mself\u001b[39;49m\u001b[39m.\u001b[39;49menv,\n\u001b[0;32m     73\u001b[0m                                     close_fds\u001b[39m=\u001b[39;49mplatform\u001b[39m.\u001b[39;49msystem() \u001b[39m!=\u001b[39;49m \u001b[39m'\u001b[39;49m\u001b[39mWindows\u001b[39;49m\u001b[39m'\u001b[39;49m,\n\u001b[0;32m     74\u001b[0m                                     stdout\u001b[39m=\u001b[39;49m\u001b[39mself\u001b[39;49m\u001b[39m.\u001b[39;49mlog_file,\n\u001b[0;32m     75\u001b[0m                                     stderr\u001b[39m=\u001b[39;49m\u001b[39mself\u001b[39;49m\u001b[39m.\u001b[39;49mlog_file,\n\u001b[0;32m     76\u001b[0m                                     stdin\u001b[39m=\u001b[39;49mPIPE)\n\u001b[0;32m     77\u001b[0m \u001b[39mexcept\u001b[39;00m \u001b[39mTypeError\u001b[39;00m:\n",
      "File \u001b[1;32mc:\\Users\\Snigis\\anaconda3\\envs\\ADS_LNW\\lib\\subprocess.py:971\u001b[0m, in \u001b[0;36mPopen.__init__\u001b[1;34m(self, args, bufsize, executable, stdin, stdout, stderr, preexec_fn, close_fds, shell, cwd, env, universal_newlines, startupinfo, creationflags, restore_signals, start_new_session, pass_fds, user, group, extra_groups, encoding, errors, text, umask, pipesize)\u001b[0m\n\u001b[0;32m    968\u001b[0m             \u001b[39mself\u001b[39m\u001b[39m.\u001b[39mstderr \u001b[39m=\u001b[39m io\u001b[39m.\u001b[39mTextIOWrapper(\u001b[39mself\u001b[39m\u001b[39m.\u001b[39mstderr,\n\u001b[0;32m    969\u001b[0m                     encoding\u001b[39m=\u001b[39mencoding, errors\u001b[39m=\u001b[39merrors)\n\u001b[1;32m--> 971\u001b[0m     \u001b[39mself\u001b[39;49m\u001b[39m.\u001b[39;49m_execute_child(args, executable, preexec_fn, close_fds,\n\u001b[0;32m    972\u001b[0m                         pass_fds, cwd, env,\n\u001b[0;32m    973\u001b[0m                         startupinfo, creationflags, shell,\n\u001b[0;32m    974\u001b[0m                         p2cread, p2cwrite,\n\u001b[0;32m    975\u001b[0m                         c2pread, c2pwrite,\n\u001b[0;32m    976\u001b[0m                         errread, errwrite,\n\u001b[0;32m    977\u001b[0m                         restore_signals,\n\u001b[0;32m    978\u001b[0m                         gid, gids, uid, umask,\n\u001b[0;32m    979\u001b[0m                         start_new_session)\n\u001b[0;32m    980\u001b[0m \u001b[39mexcept\u001b[39;00m:\n\u001b[0;32m    981\u001b[0m     \u001b[39m# Cleanup if the child failed starting.\u001b[39;00m\n",
      "File \u001b[1;32mc:\\Users\\Snigis\\anaconda3\\envs\\ADS_LNW\\lib\\subprocess.py:1456\u001b[0m, in \u001b[0;36mPopen._execute_child\u001b[1;34m(self, args, executable, preexec_fn, close_fds, pass_fds, cwd, env, startupinfo, creationflags, shell, p2cread, p2cwrite, c2pread, c2pwrite, errread, errwrite, unused_restore_signals, unused_gid, unused_gids, unused_uid, unused_umask, unused_start_new_session)\u001b[0m\n\u001b[0;32m   1455\u001b[0m \u001b[39mtry\u001b[39;00m:\n\u001b[1;32m-> 1456\u001b[0m     hp, ht, pid, tid \u001b[39m=\u001b[39m _winapi\u001b[39m.\u001b[39;49mCreateProcess(executable, args,\n\u001b[0;32m   1457\u001b[0m                              \u001b[39m# no special security\u001b[39;49;00m\n\u001b[0;32m   1458\u001b[0m                              \u001b[39mNone\u001b[39;49;00m, \u001b[39mNone\u001b[39;49;00m,\n\u001b[0;32m   1459\u001b[0m                              \u001b[39mint\u001b[39;49m(\u001b[39mnot\u001b[39;49;00m close_fds),\n\u001b[0;32m   1460\u001b[0m                              creationflags,\n\u001b[0;32m   1461\u001b[0m                              env,\n\u001b[0;32m   1462\u001b[0m                              cwd,\n\u001b[0;32m   1463\u001b[0m                              startupinfo)\n\u001b[0;32m   1464\u001b[0m \u001b[39mfinally\u001b[39;00m:\n\u001b[0;32m   1465\u001b[0m     \u001b[39m# Child is launched. Close the parent's copy of those pipe\u001b[39;00m\n\u001b[0;32m   1466\u001b[0m     \u001b[39m# handles that only the child should have open.  You need\u001b[39;00m\n\u001b[1;32m   (...)\u001b[0m\n\u001b[0;32m   1469\u001b[0m     \u001b[39m# pipe will not close when the child process exits and the\u001b[39;00m\n\u001b[0;32m   1470\u001b[0m     \u001b[39m# ReadFile will hang.\u001b[39;00m\n",
      "\u001b[1;31mFileNotFoundError\u001b[0m: [WinError 2] The system cannot find the file specified",
      "\nDuring handling of the above exception, another exception occurred:\n",
      "\u001b[1;31mWebDriverException\u001b[0m                        Traceback (most recent call last)",
      "Cell \u001b[1;32mIn[2], line 5\u001b[0m\n\u001b[0;32m      2\u001b[0m properties \u001b[39m=\u001b[39m []\n\u001b[0;32m      3\u001b[0m \u001b[39mfor\u001b[39;00m page \u001b[39min\u001b[39;00m \u001b[39mrange\u001b[39m(\u001b[39m1\u001b[39m, \u001b[39m3\u001b[39m):\n\u001b[0;32m      4\u001b[0m \u001b[39m# Create a new instance of Chrome driver\u001b[39;00m\n\u001b[1;32m----> 5\u001b[0m     driver \u001b[39m=\u001b[39m webdriver\u001b[39m.\u001b[39;49mChrome()\n\u001b[0;32m      7\u001b[0m \u001b[39m# Navigate to the search result page for Zurich city on ImmoScout24.ch\u001b[39;00m\n\u001b[0;32m      9\u001b[0m     \u001b[39mprint\u001b[39m(page)\n",
      "File \u001b[1;32mc:\\Users\\Snigis\\anaconda3\\envs\\ADS_LNW\\lib\\site-packages\\selenium\\webdriver\\chrome\\webdriver.py:73\u001b[0m, in \u001b[0;36mWebDriver.__init__\u001b[1;34m(self, executable_path, port, options, service_args, desired_capabilities, service_log_path, chrome_options, keep_alive)\u001b[0m\n\u001b[0;32m     66\u001b[0m         desired_capabilities\u001b[39m.\u001b[39mupdate(options\u001b[39m.\u001b[39mto_capabilities())\n\u001b[0;32m     68\u001b[0m \u001b[39mself\u001b[39m\u001b[39m.\u001b[39mservice \u001b[39m=\u001b[39m Service(\n\u001b[0;32m     69\u001b[0m     executable_path,\n\u001b[0;32m     70\u001b[0m     port\u001b[39m=\u001b[39mport,\n\u001b[0;32m     71\u001b[0m     service_args\u001b[39m=\u001b[39mservice_args,\n\u001b[0;32m     72\u001b[0m     log_path\u001b[39m=\u001b[39mservice_log_path)\n\u001b[1;32m---> 73\u001b[0m \u001b[39mself\u001b[39;49m\u001b[39m.\u001b[39;49mservice\u001b[39m.\u001b[39;49mstart()\n\u001b[0;32m     75\u001b[0m \u001b[39mtry\u001b[39;00m:\n\u001b[0;32m     76\u001b[0m     RemoteWebDriver\u001b[39m.\u001b[39m\u001b[39m__init__\u001b[39m(\n\u001b[0;32m     77\u001b[0m         \u001b[39mself\u001b[39m,\n\u001b[0;32m     78\u001b[0m         command_executor\u001b[39m=\u001b[39mChromeRemoteConnection(\n\u001b[0;32m     79\u001b[0m             remote_server_addr\u001b[39m=\u001b[39m\u001b[39mself\u001b[39m\u001b[39m.\u001b[39mservice\u001b[39m.\u001b[39mservice_url,\n\u001b[0;32m     80\u001b[0m             keep_alive\u001b[39m=\u001b[39mkeep_alive),\n\u001b[0;32m     81\u001b[0m         desired_capabilities\u001b[39m=\u001b[39mdesired_capabilities)\n",
      "File \u001b[1;32mc:\\Users\\Snigis\\anaconda3\\envs\\ADS_LNW\\lib\\site-packages\\selenium\\webdriver\\common\\service.py:81\u001b[0m, in \u001b[0;36mService.start\u001b[1;34m(self)\u001b[0m\n\u001b[0;32m     79\u001b[0m \u001b[39mexcept\u001b[39;00m \u001b[39mOSError\u001b[39;00m \u001b[39mas\u001b[39;00m err:\n\u001b[0;32m     80\u001b[0m     \u001b[39mif\u001b[39;00m err\u001b[39m.\u001b[39merrno \u001b[39m==\u001b[39m errno\u001b[39m.\u001b[39mENOENT:\n\u001b[1;32m---> 81\u001b[0m         \u001b[39mraise\u001b[39;00m WebDriverException(\n\u001b[0;32m     82\u001b[0m             \u001b[39m\"\u001b[39m\u001b[39m'\u001b[39m\u001b[39m%s\u001b[39;00m\u001b[39m'\u001b[39m\u001b[39m executable needs to be in PATH. \u001b[39m\u001b[39m%s\u001b[39;00m\u001b[39m\"\u001b[39m \u001b[39m%\u001b[39m (\n\u001b[0;32m     83\u001b[0m                 os\u001b[39m.\u001b[39mpath\u001b[39m.\u001b[39mbasename(\u001b[39mself\u001b[39m\u001b[39m.\u001b[39mpath), \u001b[39mself\u001b[39m\u001b[39m.\u001b[39mstart_error_message)\n\u001b[0;32m     84\u001b[0m         )\n\u001b[0;32m     85\u001b[0m     \u001b[39melif\u001b[39;00m err\u001b[39m.\u001b[39merrno \u001b[39m==\u001b[39m errno\u001b[39m.\u001b[39mEACCES:\n\u001b[0;32m     86\u001b[0m         \u001b[39mraise\u001b[39;00m WebDriverException(\n\u001b[0;32m     87\u001b[0m             \u001b[39m\"\u001b[39m\u001b[39m'\u001b[39m\u001b[39m%s\u001b[39;00m\u001b[39m'\u001b[39m\u001b[39m executable may have wrong permissions. \u001b[39m\u001b[39m%s\u001b[39;00m\u001b[39m\"\u001b[39m \u001b[39m%\u001b[39m (\n\u001b[0;32m     88\u001b[0m                 os\u001b[39m.\u001b[39mpath\u001b[39m.\u001b[39mbasename(\u001b[39mself\u001b[39m\u001b[39m.\u001b[39mpath), \u001b[39mself\u001b[39m\u001b[39m.\u001b[39mstart_error_message)\n\u001b[0;32m     89\u001b[0m         )\n",
      "\u001b[1;31mWebDriverException\u001b[0m: Message: 'chromedriver' executable needs to be in PATH. Please see https://sites.google.com/a/chromium.org/chromedriver/home\n"
     ]
    }
   ],
   "source": [
    "# Create an empty array to store the scraped data\n",
    "properties = []\n",
    "for page in range(1, 3):\n",
    "# Create a new instance of Chrome driver\n",
    "    driver = webdriver.Chrome()\n",
    "\n",
    "# Navigate to the search result page for Zurich city on ImmoScout24.ch\n",
    "\n",
    "    print(page)\n",
    "        # List of URLs to scrape\n",
    "    urls = [\n",
    "    'https://www.immoscout24.ch/en/real-estate/rent/city-zuerich?pn='+str(page),\n",
    "    'https://www.immoscout24.ch/en/real-estate/rent/city-geneve?pn='+str(page),\n",
    "    'https://www.immoscout24.ch/en/real-estate/rent/city-basel?pn='+str(page),\n",
    "    'https://www.immoscout24.ch/en/real-estate/rent/city-lausanne?pn='+str(page),\n",
    "    'https://www.immoscout24.ch/en/real-estate/rent/city-bern?pn='+str(page),\n",
    "    'https://www.immoscout24.ch/en/real-estate/rent/city-winterthur?pn='+str(page),\n",
    "    'https://www.immoscout24.ch/en/real-estate/rent/city-luzern?pn='+str(page),\n",
    "    'https://www.immoscout24.ch/en/real-estate/rent/city-st-gallen?pn='+str(page),\n",
    "    'https://www.immoscout24.ch/en/real-estate/rent/city-lugano?pn='+str(page),\n",
    "    'https://www.immoscout24.ch/en/real-estate/rent/city-biel-bienne?pn='+str(page)\n",
    "]\n",
    "\n",
    "    # loop thorugh each URL \n",
    "\n",
    "    for url in urls:\n",
    "               \n",
    "        driver.get(url)\n",
    "\n",
    "        # Wait for the page to load completely\n",
    "        driver.implicitly_wait(10)\n",
    "\n",
    "        # Use BeautifulSoup to parse the HTML content of the page\n",
    "        soup = BeautifulSoup(driver.page_source, \"html.parser\")\n",
    "\n",
    "        # Find all the property listings on the page\n",
    "        listings = soup.find_all(\"a\", {\"class\": \"Wrapper__A-kVOWTT\"})\n",
    "        \n",
    "\n",
    "    # Loop through the listings and extract the required information\n",
    "    for listing in listings:\n",
    "        #print(listing)\n",
    "        # Get the price, size, and address of the property\n",
    "        price = listing.find(\"h3\", {\"class\": re.compile(\"^Box-cYFBPY hKJGPR Heading\")}).text.strip()\n",
    "        #size = listing.find(\"h3\", {\"class\": re.compile(\"^Box-cYFBPY hKJGPR Heading\")}).text.strip()\n",
    "        address = listing.find(\"span\", {\"class\": \"AddressLine__TextStyled-eaUAMD\"}).text.strip()\n",
    "        \n",
    "        # Add the property details to the properties array as a tuple\n",
    "        properties.append((price, address))\n",
    "\n",
    "    # Close the Chrome driver\n",
    "    driver.close()\n",
    "\n",
    "    # Print the scraped data array\n",
    "    print(\"Properties:\", properties)"
   ]
  },
  {
   "attachments": {},
   "cell_type": "markdown",
   "metadata": {},
   "source": [
    "# WEB API using Overpass Turbo"
   ]
  },
  {
   "cell_type": "code",
   "execution_count": 7,
   "metadata": {},
   "outputs": [
    {
     "ename": "OverpassBadRequest",
     "evalue": "Error: line 3: parse error: Unknown type &quot;{&quot; \nError: line 3: parse error: An empty query is not allowed \nError: line 3: parse error: ';' expected - '{' found. \nError: line 4: parse error: Unknown type &quot;{&quot; \nError: line 4: parse error: An empty query is not allowed \nError: line 4: parse error: ';' expected - '{' found. \nError: line 5: parse error: Unknown type &quot;{&quot; \nError: line 5: parse error: An empty query is not allowed \nError: line 5: parse error: ';' expected - '{' found. \nError: line 6: parse error: Unknown type &quot;{&quot; \nError: line 6: parse error: An empty query is not allowed \nError: line 6: parse error: ';' expected - '{' found. \nError: line 7: parse error: Unknown type &quot;{&quot; \nError: line 7: parse error: An empty query is not allowed \nError: line 7: parse error: ';' expected - '{' found. \nError: line 8: parse error: Unknown type &quot;{&quot; \nError: line 8: parse error: An empty query is not allowed \nError: line 8: parse error: ';' expected - '{' found. \nError: line 9: parse error: Unknown type &quot;{&quot; \nError: line 9: parse error: An empty query is not allowed \nError: line 9: parse error: ';' expected - '{' found. \nError: line 10: parse error: Unknown type &quot;{&quot; \nError: line 10: parse error: An empty query is not allowed \nError: line 10: parse error: ';' expected - '{' found. \nError: line 11: parse error: Unknown type &quot;{&quot; \nError: line 11: parse error: An empty query is not allowed \nError: line 11: parse error: ';' expected - '{' found. \nError: line 12: parse error: Unknown type &quot;{&quot; \nError: line 12: parse error: An empty query is not allowed \nError: line 12: parse error: ';' expected - '{' found. ",
     "output_type": "error",
     "traceback": [
      "\u001b[1;31m---------------------------------------------------------------------------\u001b[0m",
      "\u001b[1;31mOverpassBadRequest\u001b[0m                        Traceback (most recent call last)",
      "Cell \u001b[1;32mIn[7], line 23\u001b[0m\n\u001b[0;32m     20\u001b[0m api \u001b[39m=\u001b[39m overpy\u001b[39m.\u001b[39mOverpass()\n\u001b[0;32m     22\u001b[0m \u001b[39m# performing the query and retrieveing the results\u001b[39;00m\n\u001b[1;32m---> 23\u001b[0m response \u001b[39m=\u001b[39m api\u001b[39m.\u001b[39;49mquery(query)\n\u001b[0;32m     25\u001b[0m \u001b[39m# print the name and zip code of each supermarket\u001b[39;00m\n\u001b[0;32m     26\u001b[0m \u001b[39mfor\u001b[39;00m element \u001b[39min\u001b[39;00m response[\u001b[39m\"\u001b[39m\u001b[39melements\u001b[39m\u001b[39m\"\u001b[39m]:\n",
      "File \u001b[1;32mc:\\Users\\Snigis\\anaconda3\\envs\\ADS_LNW\\lib\\site-packages\\overpy\\__init__.py:173\u001b[0m, in \u001b[0;36mOverpass.query\u001b[1;34m(self, query)\u001b[0m\n\u001b[0;32m    168\u001b[0m current_exception \u001b[39m=\u001b[39m exception\u001b[39m.\u001b[39mOverpassBadRequest(\n\u001b[0;32m    169\u001b[0m     query,\n\u001b[0;32m    170\u001b[0m     msgs\u001b[39m=\u001b[39mmsgs\n\u001b[0;32m    171\u001b[0m )\n\u001b[0;32m    172\u001b[0m \u001b[39mif\u001b[39;00m \u001b[39mnot\u001b[39;00m do_retry:\n\u001b[1;32m--> 173\u001b[0m     \u001b[39mraise\u001b[39;00m current_exception\n\u001b[0;32m    174\u001b[0m retry_exceptions\u001b[39m.\u001b[39mappend(current_exception)\n\u001b[0;32m    175\u001b[0m \u001b[39mcontinue\u001b[39;00m\n",
      "\u001b[1;31mOverpassBadRequest\u001b[0m: Error: line 3: parse error: Unknown type &quot;{&quot; \nError: line 3: parse error: An empty query is not allowed \nError: line 3: parse error: ';' expected - '{' found. \nError: line 4: parse error: Unknown type &quot;{&quot; \nError: line 4: parse error: An empty query is not allowed \nError: line 4: parse error: ';' expected - '{' found. \nError: line 5: parse error: Unknown type &quot;{&quot; \nError: line 5: parse error: An empty query is not allowed \nError: line 5: parse error: ';' expected - '{' found. \nError: line 6: parse error: Unknown type &quot;{&quot; \nError: line 6: parse error: An empty query is not allowed \nError: line 6: parse error: ';' expected - '{' found. \nError: line 7: parse error: Unknown type &quot;{&quot; \nError: line 7: parse error: An empty query is not allowed \nError: line 7: parse error: ';' expected - '{' found. \nError: line 8: parse error: Unknown type &quot;{&quot; \nError: line 8: parse error: An empty query is not allowed \nError: line 8: parse error: ';' expected - '{' found. \nError: line 9: parse error: Unknown type &quot;{&quot; \nError: line 9: parse error: An empty query is not allowed \nError: line 9: parse error: ';' expected - '{' found. \nError: line 10: parse error: Unknown type &quot;{&quot; \nError: line 10: parse error: An empty query is not allowed \nError: line 10: parse error: ';' expected - '{' found. \nError: line 11: parse error: Unknown type &quot;{&quot; \nError: line 11: parse error: An empty query is not allowed \nError: line 11: parse error: ';' expected - '{' found. \nError: line 12: parse error: Unknown type &quot;{&quot; \nError: line 12: parse error: An empty query is not allowed \nError: line 12: parse error: ';' expected - '{' found. "
     ]
    }
   ],
   "source": [
    "# defining the overpass query\n",
    "query = '''\n",
    "[out:json];\n",
    "{{geocodeArea:Zurich}} -> .searchArea0;\n",
    "{{geocodeArea:Geneva}} -> .searchArea1;\n",
    "{{geocodeArea:Basel}} -> .searchArea2;\n",
    "{{geocodeArea:Lausanne}} -> .searchArea3;\n",
    "{{geocodeArea:Bern}} -> .searchArea4;\n",
    "{{geocodeArea:Winterthur}} -> .searchArea5;\n",
    "{{geocodeArea:Luzern}} -> .searchArea6;\n",
    "{{geocodeArea:St. Gallen}} -> .searchArea7;\n",
    "{{geocodeArea:Lugano}} -> .searchArea8;\n",
    "{{geocodeArea:Biel}} -> .searchArea9;\n",
    "( area.searchArea0; area.searchArea1; area.searchArea2; area.searchArea3; area.searchArea4; area.searchArea5; area.searchArea6; area.searchArea7; area.searchArea8; area.searchArea9;) -> .searchArea;\n",
    "(node[\"shop\"=\"supermarket\"](area.searchArea);way[\"shop\"=\"supermarket\"](area.searchArea););\n",
    "out center;\n",
    "'''\n",
    "\n",
    "# creating Overpass API object\n",
    "api = overpy.Overpass()\n",
    "\n",
    "# performing the query and retrieveing the results\n",
    "response = api.query(query)\n",
    "\n",
    "# print the name and zip code of each supermarket\n",
    "for element in response[\"elements\"]:\n",
    "    if element[\"tags\"].get(\"name\") and element[\"tags\"].get(\"addr:postcode\"):\n",
    "        name = element[\"tags\"][\"name\"]\n",
    "        zip_code = element[\"tags\"][\"addr:postcode\"]\n",
    "        data = (name, zip_code)"
   ]
  },
  {
   "attachments": {},
   "cell_type": "markdown",
   "metadata": {},
   "source": [
    "# Connection to AWS PostgreSQL and inserting Data"
   ]
  },
  {
   "cell_type": "code",
   "execution_count": null,
   "metadata": {},
   "outputs": [],
   "source": [
    "#Connection to the database\n",
    "conn = psycopg2.connect(\n",
    "    host=\"ads-database1.cbwqb3cep5ch.eu-central-1.rds.amazonaws.com\",\n",
    "    database=\"adsdatabase\",\n",
    "    user=\"adschief1\",\n",
    "    password=\"1eYvmDnMPikKSImeLrev\"\n",
    ")\n",
    "\n",
    "# Creating a cursor object for executing SQL statements\n",
    "cur = conn.cursor()\n",
    "\n",
    "# Iterate over the properties array\n",
    "for property in properties:\n",
    "    # Extract the property details\n",
    "    details = property[0].split(\", \")  # Split the details by comma and space\n",
    "\n",
    "    # Extract the individual details\n",
    "    rooms = details[0]\n",
    "    size = details[1]\n",
    "    price = details[2]\n",
    "    address = details[3]\n",
    "    zipcode = details[4]\n",
    "    kanton = details [5]\n",
    "    \n",
    "    # Process the individual data record as needed\n",
    "    print(\"Rooms:\", rooms)\n",
    "    print(\"Size:\", size)\n",
    "    print(\"Price:\", price)\n",
    "    print(\"Address:\", address)\n",
    "    print(\"Zip-Code\", zipcode)\n",
    "    print(\"Kanton\", kanton)\n",
    "    print(\"--------------------\")\n",
    "\n",
    "\n",
    "    # Insert the data from ImmoScout24 into the database\n",
    "    cur.execute(\n",
    "        \"INSERT INTO your_table_name (rooms, size, price, address, zipcode, kanton) VALUES (%s, %s, %s, %s. %s, %s)\",\n",
    "        (rooms, size, price, address, zipcode, kanton)\n",
    "    )\n",
    "    \n",
    "    # Insert the data from Overpass Turbo into the database\n",
    "    cur.execute(\n",
    "        \"INSERT INTO your_table_name2 (name, zip_code) VALUES (%s, %s)\"\n",
    "        (name, zip_code)\n",
    "    )\n",
    "\n",
    "# Commit the changes to the database\n",
    "conn.commit()\n",
    "\n",
    "# Close the cursor and connection\n",
    "cur.close()\n",
    "conn.close()\n"
   ]
  },
  {
   "attachments": {},
   "cell_type": "markdown",
   "metadata": {},
   "source": [
    "#### Join the two Tables \"immoscout24_data\" and \"overpass_data\""
   ]
  },
  {
   "cell_type": "code",
   "execution_count": null,
   "metadata": {},
   "outputs": [],
   "source": [
    "# Join the two tables \n",
    "query = '''\n",
    "SELECT *\n",
    "FROM immoscout24_data\n",
    "JOIN overpass_data ON immoscout24_data.zip_code = overpass_data.zip_code\n",
    "'''\n",
    "data_df = pd.read_sql(query, conn)\n"
   ]
  },
  {
   "attachments": {},
   "cell_type": "markdown",
   "metadata": {},
   "source": [
    "# EDA using our data from PostgreSQL"
   ]
  },
  {
   "cell_type": "code",
   "execution_count": null,
   "metadata": {},
   "outputs": [],
   "source": [
    "# First few rows of the DataFrame\n",
    "data_df.head()"
   ]
  },
  {
   "cell_type": "code",
   "execution_count": null,
   "metadata": {},
   "outputs": [],
   "source": [
    "# Summary statistics\n",
    "data_df.describe()"
   ]
  },
  {
   "cell_type": "code",
   "execution_count": null,
   "metadata": {},
   "outputs": [],
   "source": [
    "# Examine the data types\n",
    "data_df.dtypes"
   ]
  },
  {
   "cell_type": "code",
   "execution_count": null,
   "metadata": {},
   "outputs": [],
   "source": [
    "# Count number of missing values\n",
    "data_df.isnull().sum()"
   ]
  },
  {
   "cell_type": "code",
   "execution_count": null,
   "metadata": {},
   "outputs": [],
   "source": [
    "#mean, median, mean, median, mode, variance, standard deviation\n",
    "#histogram, boxplots, scatter plots\n",
    "#correlation analysis\n",
    "#hypothesis testing \n",
    "\n",
    "# Retrieve the data from the database\n",
    "cur.execute(\"SELECT price FROM XXXXXXXXXXXX\")\n",
    "\n",
    "# Fetch all the rows of the query result\n",
    "rows = cur.fetchall()\n",
    "\n",
    "# Extract the values from the rows\n",
    "prices = [row[0] for row in rows]\n",
    "\n",
    "# Calculate the mean\n",
    "mean = statistics.mean(prices)\n",
    "\n",
    "# Calculate the median\n",
    "median = statistics.median(prices)\n",
    "\n",
    "# Calculate the mode\n",
    "mode = statistics.mode(prices)\n",
    "\n",
    "# Calculate the variance\n",
    "variance = statistics.variance(prices)\n",
    "\n",
    "# Calculate the standard deviation\n",
    "std_dev = statistics.stdev(prices)\n",
    "\n",
    "# Print the results\n",
    "print(\"Mean:\", mean)\n",
    "print(\"Median:\", median)\n",
    "print(\"Mode:\", mode)\n",
    "print(\"Variance:\", variance)\n",
    "print(\"Standard Deviation:\", std_dev)"
   ]
  },
  {
   "attachments": {},
   "cell_type": "markdown",
   "metadata": {},
   "source": [
    "# Correlation Matrix "
   ]
  },
  {
   "attachments": {},
   "cell_type": "markdown",
   "metadata": {},
   "source": [
    "### How do we separate the data into training and testing data? NO CLUE"
   ]
  },
  {
   "cell_type": "code",
   "execution_count": null,
   "metadata": {},
   "outputs": [],
   "source": [
    "# Split the data into training and test sets (70% training, 30% testing)\n",
    "train_df, test_df = train_test_split(data_df, test_size=0.3, random_state=42)\n",
    "\n",
    "\n",
    "# Create the correlation matrix\n",
    "correlation_matrix = train_df.corr()\n",
    "\n",
    "print(correlation_matrix)"
   ]
  },
  {
   "attachments": {},
   "cell_type": "markdown",
   "metadata": {},
   "source": [
    "### Correlation Matrix Plot"
   ]
  },
  {
   "cell_type": "code",
   "execution_count": null,
   "metadata": {},
   "outputs": [],
   "source": [
    "# Correlation Matrix Plot (corrplot)\n",
    "sns.pairplot(train_df)"
   ]
  },
  {
   "cell_type": "code",
   "execution_count": null,
   "metadata": {},
   "outputs": [],
   "source": []
  }
 ],
 "metadata": {
  "interpreter": {
   "hash": "e339ea3c3e600b84ea8ab1b40bcea3a7b86a9f1e34b453e14ccbc82abc307e6d"
  },
  "kernelspec": {
   "display_name": "Python 3.10.9 ('adsenv')",
   "language": "python",
   "name": "python3"
  },
  "language_info": {
   "codemirror_mode": {
    "name": "ipython",
    "version": 3
   },
   "file_extension": ".py",
   "mimetype": "text/x-python",
   "name": "python",
   "nbconvert_exporter": "python",
   "pygments_lexer": "ipython3",
   "version": "3.10.11"
  },
  "orig_nbformat": 4
 },
 "nbformat": 4,
 "nbformat_minor": 2
}
