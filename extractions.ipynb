{
 "cells": [
  {
   "attachments": {},
   "cell_type": "markdown",
   "metadata": {},
   "source": [
    "# Modules to be imported"
   ]
  },
  {
   "cell_type": "code",
   "execution_count": null,
   "metadata": {},
   "outputs": [],
   "source": [
    "from selenium import webdriver\n",
    "from selenium.webdriver.common.keys import Keys\n",
    "from bs4 import BeautifulSoup\n",
    "import re\n",
    "import overpass\n",
    "import psycopg2\n",
    "import statistics\n",
    "import tensorflow as tf\n",
    "from tensorflow import keras"
   ]
  },
  {
   "attachments": {},
   "cell_type": "markdown",
   "metadata": {},
   "source": [
    "# Webscraping from www.immoscout24.ch"
   ]
  },
  {
   "cell_type": "code",
   "execution_count": null,
   "metadata": {},
   "outputs": [
    {
     "name": "stdout",
     "output_type": "stream",
     "text": [
      "1\n",
      "2\n",
      "Properties: [('2.5 rooms, 55 m², CHF 2600.—', 'Schaffhauserstrasse 453, 8052 Zürich, ZH'), ('2.5 rooms, 54 m², CHF 2500.—', 'Schaffhauserstrasse 453, 8052 Zürich, ZH'), ('3.5 rooms, 69 m², CHF 3750.—', 'Nelkenstrasse 20, 8006 Zürich, ZH'), ('1.5 rooms, 23 m², CHF 1460.—', 'Viktoriastrasse 29, 8057 Zürich, ZH'), ('2 rooms, 48 m², CHF 2720.—', 'Zelgstrasse 41, 8003 Zürich, ZH'), ('3.5 rooms, 135 m², CHF 7150.—', 'Kraftstrasse 37, 8044 Zürich, ZH'), ('2.5 rooms, 76 m², CHF 3970.—', 'Schöntalstrasse 20, 8004 Zürich, ZH'), ('4.5 rooms, 156 m², CHF 5450.—', 'Alfred Escher-Strasse 25, 8002 Zürich, ZH'), ('4.5 rooms, 125 m², CHF 3600.—', 'Eisfeldstrasse 30, 8052 Zürich, ZH'), ('4.5 rooms, 110 m², CHF 5960.—', 'Turnerstrasse 18, 8006 Zürich, ZH'), ('1 room, CHF 1300.—', 'Baslerstrasse 110, 8048 Zürich, ZH'), ('4 rooms, 101 m², CHF 3625.—', 'Baslerstrasse 77, 8048 Zürich, ZH'), ('4.5 rooms, 84 m², CHF 2940.—', 'Rautistrasse 332, 8048 Zürich, ZH'), ('4.5 rooms, 117 m², CHF 3270.—', 'Badenerstrasse 581, 8048 Zürich, ZH'), ('2.5 rooms, 47 m², CHF 4375.—', 'Rosengartenstrasse 55, 8037 Zürich, ZH'), ('3 rooms, 71 m², CHF 1810.—', 'Carl-Spitteler-Strasse 18, 8053 Zürich, ZH'), ('2.5 rooms, 49 m², CHF 3395.—', 'Rosengartenstrasse 55, 8037 Zürich, ZH'), ('4.5 rooms, 108 m², CHF 2630.—', 'Schwandenholzstrasse 232, 8046 Zürich, ZH'), ('4.5 rooms, 134 m², CHF 7160.—', 'Feldeggstr. 12, 8008 Zürich, ZH'), ('3 rooms, 75 m², CHF 2800.—', 'Schwamendingenstrasse 93, 8050 Zürich, ZH'), ('4.5 rooms, 110 m², CHF 6000.—', '8004 Zürich, ZH'), ('3.5 rooms, 83 m², CHF 3710.—', 'Seminarstr. 1, 8006 Zürich, ZH'), ('3 rooms, 76 m², CHF 2260.—', 'Goldbrunnenstrasse 115, 8055 Zürich, ZH'), ('3.5 rooms, 89 m², CHF 3010.—', 'Käferholzstrasse 40, 8057 Zürich, ZH'), ('3.5 rooms, 87 m², CHF 2945.—', 'Käferholzstrasse 58, 8057 Zürich, ZH'), ('1 room, 21 m², CHF 1200.—', 'Schwamendingenstrasse 93, 8050 Zürich, ZH'), ('3.5 rooms, 73 m², CHF 2143.—', 'Leimgrübelstrasse 22, 8052 Zürich, ZH'), ('3.5 rooms, 72 m², CHF 3400.—', 'Seestrasse 436, 8038 Zürich, ZH'), ('4.5 rooms, 143 m², CHF 6600.—', 'Gotthardstrasse 53, 8002 Zürich, ZH'), ('3.5 rooms, 79 m², CHF 2785.—', 'Zimmergasse 5, 8008 Zürich, ZH'), ('4.5 rooms, 137 m², CHF 16,875.—', '8001 Zürich, ZH'), ('4.5 rooms, 167 m², CHF 24,000.—', '8001 Zürich, ZH'), ('4 rooms, 106 m², CHF 4160.—', 'Schanzackerstrassse 18, 8006 Zürich, ZH'), ('2.5 rooms, 72 m², CHF 2460.—', 'Frauentalweg 106, 8045 Zürich, ZH'), ('2.5 rooms, 56 m², CHF 1955.—', 'Im Heuried 62, 8055 Zürich, ZH'), ('2 rooms, 48 m², CHF 1750.—', 'Badenerstr. 881, 8048 Zürich, ZH'), ('1.5 rooms, 30 m², CHF 3790.—', 'Baurstrasse 29, 8008 Zürich, ZH'), ('4.5 rooms, 97 m², CHF 2950.—', 'Riedhofstrasse 63, 8049 Zürich, ZH'), ('2.5 rooms, 82 m², CHF 3412.—', 'Badenerstrasse 415, 8003 Zürich, ZH'), ('2.5 rooms, 58 m², CHF 2900.—', 'Badenerstrasse 250, 8004 Zürich, ZH'), ('2.5 rooms, 58 m², CHF 3395.—', 'Rosengartenstrasse 55, 8037 Zürich, ZH'), ('2 rooms, 56 m², CHF 2690.—', 'Zeltweg 33, 8032 Zürich, ZH'), ('4 rooms, 97 m², CHF 2350.—', 'Schaffhauserstrasse 457, 8052 Zürich, ZH'), ('3 rooms, 65 m², CHF 2590.—', 'Forchstrasse 347, 8008 Zürich, ZH'), ('1.5 rooms, 39 m², CHF 1735.—', 'Käferholzstrasse 42, 8057 Zürich, ZH'), ('2.5 rooms, 74 m², CHF 3155.—', 'Oerlikonerstrasse 88, 8057 Zürich, ZH'), ('1.5 rooms, 41 m², CHF 1465.—', 'Hungerbergstr. 27, 8046 Zürich, ZH'), ('1.5 rooms, 40 m², CHF 1527.—', 'Widmerstrasse 17 A, 8038 Zürich, ZH')]\n"
     ]
    }
   ],
   "source": [
    "# Create an empty array to store the scraped data\n",
    "properties = []\n",
    "for page in range(1, 3):\n",
    "# Create a new instance of Chrome driver\n",
    "    driver = webdriver.Chrome()\n",
    "\n",
    "# Navigate to the search result page for Zurich city on ImmoScout24.ch\n",
    "\n",
    "    print(page)\n",
    "        # List of URLs to scrape\n",
    "    urls = [\n",
    "    'https://www.immoscout24.ch/en/real-estate/rent/city-zuerich?pn='+str(page),\n",
    "    'https://www.immoscout24.ch/en/real-estate/rent/city-geneve?pn='+str(page),\n",
    "    'https://www.immoscout24.ch/en/real-estate/rent/city-basel?pn='+str(page),\n",
    "    'https://www.immoscout24.ch/en/real-estate/rent/city-lausanne?pn='+str(page),\n",
    "    'https://www.immoscout24.ch/en/real-estate/rent/city-bern?pn='+str(page),\n",
    "    'https://www.immoscout24.ch/en/real-estate/rent/city-winterthur?pn='+str(page),\n",
    "    'https://www.immoscout24.ch/en/real-estate/rent/city-luzern?pn='+str(page),\n",
    "    'https://www.immoscout24.ch/en/real-estate/rent/city-st-gallen?pn='+str(page),\n",
    "    'https://www.immoscout24.ch/en/real-estate/rent/city-lugano?pn='+str(page),\n",
    "    'https://www.immoscout24.ch/en/real-estate/rent/city-biel-bienne?pn='+str(page)\n",
    "]\n",
    "\n",
    "    # loop thorugh each URL \n",
    "\n",
    "    for url in urls:\n",
    "               \n",
    "        driver.get(url)\n",
    "\n",
    "        # Wait for the page to load completely\n",
    "        driver.implicitly_wait(10)\n",
    "\n",
    "        # Use BeautifulSoup to parse the HTML content of the page\n",
    "        soup = BeautifulSoup(driver.page_source, \"html.parser\")\n",
    "\n",
    "        # Find all the property listings on the page\n",
    "        listings = soup.find_all(\"a\", {\"class\": \"Wrapper__A-kVOWTT\"})\n",
    "        \n",
    "\n",
    "    # Loop through the listings and extract the required information\n",
    "    for listing in listings:\n",
    "        #print(listing)\n",
    "        # Get the price, size, and address of the property\n",
    "        price = listing.find(\"h3\", {\"class\": re.compile(\"^Box-cYFBPY hKJGPR Heading\")}).text.strip()\n",
    "        #size = listing.find(\"h3\", {\"class\": re.compile(\"^Box-cYFBPY hKJGPR Heading\")}).text.strip()\n",
    "        address = listing.find(\"span\", {\"class\": \"AddressLine__TextStyled-eaUAMD\"}).text.strip()\n",
    "        \n",
    "        # Add the property details to the properties array as a tuple\n",
    "        properties.append((price, address))\n",
    "\n",
    "    # Close the Chrome driver\n",
    "    driver.close()\n",
    "\n",
    "    # Print the scraped data array\n",
    "    print(\"Properties:\", properties)"
   ]
  },
  {
   "attachments": {},
   "cell_type": "markdown",
   "metadata": {},
   "source": [
    "# WEB API using Overpass Turbo"
   ]
  },
  {
   "cell_type": "code",
   "execution_count": null,
   "metadata": {},
   "outputs": [],
   "source": [
    "# defining the overpass query\n",
    "query = '''\n",
    "[out:json];\n",
    "{{geocodeArea:Zurich}} -> .searchArea0;\n",
    "{{geocodeArea:Geneva}} -> .searchArea1;\n",
    "{{geocodeArea:Basel}} -> .searchArea2;\n",
    "{{geocodeArea:Lausanne}} -> .searchArea3;\n",
    "{{geocodeArea:Bern}} -> .searchArea4;\n",
    "{{geocodeArea:Winterthur}} -> .searchArea5;\n",
    "{{geocodeArea:Luzern}} -> .searchArea6;\n",
    "{{geocodeArea:St. Gallen}} -> .searchArea7;\n",
    "{{geocodeArea:Lugano}} -> .searchArea8;\n",
    "{{geocodeArea:Biel}} -> .searchArea9;\n",
    "( area.searchArea0; area.searchArea1; area.searchArea2; area.searchArea3; area.searchArea4; area.searchArea5; area.searchArea6; area.searchArea7; area.searchArea8; area.searchArea9;) -> .searchArea;\n",
    "(node[\"shop\"=\"supermarket\"](area.searchArea);way[\"shop\"=\"supermarket\"](area.searchArea););\n",
    "out center;\n",
    "'''\n",
    "\n",
    "# creating Overpass API object\n",
    "api = overpass.API()\n",
    "\n",
    "# performing the query and retrieveing the results\n",
    "response = api.get(query)\n",
    "\n",
    "# print the name and zip code of each supermarket\n",
    "for element in response[\"elements\"]:\n",
    "    if element[\"tags\"].get(\"name\") and element[\"tags\"].get(\"addr:postcode\"):\n",
    "        name = element[\"tags\"][\"name\"]\n",
    "        zip_code = element[\"tags\"][\"addr:postcode\"]\n",
    "        print(f\"{name}: {zip_code}\")"
   ]
  },
  {
   "attachments": {},
   "cell_type": "markdown",
   "metadata": {},
   "source": [
    "# Connection to AWS PostgreSQL"
   ]
  },
  {
   "cell_type": "code",
   "execution_count": null,
   "metadata": {},
   "outputs": [],
   "source": [
    "#Connection to the database\n",
    "conn = psycopg2.connect(\n",
    "    host=\"ads-database.cbwqb3cep5ch.eu-central-1.rds.amazonaws.com\",\n",
    "    database=\"ads-database\",\n",
    "    user=\"adschief\",\n",
    "    password=\"eYvmDnMPikKSImeLrev\"\n",
    ")\n",
    "\n",
    "# Creating a cursor object for executing SQL statements\n",
    "cur = conn.cursor()\n",
    "\n",
    "# Iterate over the properties array\n",
    "for property in properties:\n",
    "    # Extract the property details\n",
    "    details = property[0].split(\", \")  # Split the details by comma and space\n",
    "\n",
    "    # Extract the individual details\n",
    "    rooms = details[0]\n",
    "    size = details[1]\n",
    "    price = details[2]\n",
    "    address = details[3]\n",
    "    zipcode = details[4]\n",
    "    kanton = details [5]\n",
    "    \n",
    "    # Process the individual data record as needed\n",
    "    print(\"Rooms:\", rooms)\n",
    "    print(\"Size:\", size)\n",
    "    print(\"Price:\", price)\n",
    "    print(\"Address:\", address)\n",
    "    print(\"Zip-Code\", zipcode)\n",
    "    print(\"Kanton\", kanton)\n",
    "    print(\"--------------------\")\n",
    "\n",
    "\n",
    "    # Insert the data into the database\n",
    "    cur.execute(\n",
    "        \"INSERT INTO your_table_name (rooms, size, price, address, zipcode, kanton) VALUES (%s, %s, %s, %s. %s, %s)\",\n",
    "        (rooms, size, price, address, zipcode, kanton)\n",
    "    )\n",
    "    \n",
    "    # Commit the changes to the database\n",
    "conn.commit()\n",
    "\n",
    "# Close the cursor and connection\n",
    "#cur.close()\n",
    "#conn.close()\n"
   ]
  },
  {
   "attachments": {},
   "cell_type": "markdown",
   "metadata": {},
   "source": [
    "# EDA using our data from PostgreSQL"
   ]
  },
  {
   "cell_type": "code",
   "execution_count": null,
   "metadata": {},
   "outputs": [],
   "source": [
    "#mean, median, mean, median, mode, variance, standard deviation\n",
    "#histogram, boxplots, scatter plots\n",
    "#correlation analysis\n",
    "#hypothesis testing \n",
    "\n",
    "# Retrieve the data from the database\n",
    "cur.execute(\"SELECT price FROM XXXXXXXXXXXX\")\n",
    "\n",
    "# Fetch all the rows of the query result\n",
    "rows = cur.fetchall()\n",
    "\n",
    "# Extract the values from the rows\n",
    "prices = [row[0] for row in rows]\n",
    "\n",
    "# Calculate the mean\n",
    "mean = statistics.mean(prices)\n",
    "\n",
    "# Calculate the median\n",
    "median = statistics.median(prices)\n",
    "\n",
    "# Calculate the mode\n",
    "mode = statistics.mode(prices)\n",
    "\n",
    "# Calculate the variance\n",
    "variance = statistics.variance(prices)\n",
    "\n",
    "# Calculate the standard deviation\n",
    "std_dev = statistics.stdev(prices)\n",
    "\n",
    "# Print the results\n",
    "print(\"Mean:\", mean)\n",
    "print(\"Median:\", median)\n",
    "print(\"Mode:\", mode)\n",
    "print(\"Variance:\", variance)\n",
    "print(\"Standard Deviation:\", std_dev)"
   ]
  },
  {
   "attachments": {},
   "cell_type": "markdown",
   "metadata": {},
   "source": [
    "# Using TensorFlow and Keras framework/library for ML"
   ]
  },
  {
   "cell_type": "code",
   "execution_count": null,
   "metadata": {},
   "outputs": [],
   "source": [
    "\n",
    "\n",
    "\n",
    "\n",
    "\n"
   ]
  }
 ],
 "metadata": {
  "interpreter": {
   "hash": "e339ea3c3e600b84ea8ab1b40bcea3a7b86a9f1e34b453e14ccbc82abc307e6d"
  },
  "kernelspec": {
   "display_name": "Python 3.10.9 ('adsenv')",
   "language": "python",
   "name": "python3"
  },
  "language_info": {
   "codemirror_mode": {
    "name": "ipython",
    "version": 3
   },
   "file_extension": ".py",
   "mimetype": "text/x-python",
   "name": "python",
   "nbconvert_exporter": "python",
   "pygments_lexer": "ipython3",
   "version": "3.10.9"
  },
  "orig_nbformat": 4
 },
 "nbformat": 4,
 "nbformat_minor": 2
}
